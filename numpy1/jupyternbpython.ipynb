{
 "cells": [
  {
   "cell_type": "code",
   "execution_count": 1,
   "id": "5e2056b3-e9f7-4dc3-83f3-48fe4ac03c45",
   "metadata": {},
   "outputs": [
    {
     "data": {
      "text/latex": [
       "$\\displaystyle F(k) = \\int_{-\\infty}^{\\infty} f(x) e^{2\\pi i k} dx$"
      ],
      "text/plain": [
       "<IPython.core.display.Math object>"
      ]
     },
     "metadata": {},
     "output_type": "display_data"
    }
   ],
   "source": [
    "from IPython.display import display, Math, Latex\n",
    "display(Math(r'F(k) = \\int_{-\\infty}^{\\infty} f(x) e^{2\\pi i k} dx'))"
   ]
  },
  {
   "cell_type": "markdown",
   "id": "76450065",
   "metadata": {},
   "source": [
    "## Import kütüphane ekleme"
   ]
  },
  {
   "cell_type": "code",
   "execution_count": 2,
   "id": "4c7048da",
   "metadata": {},
   "outputs": [
    {
     "data": {
      "text/plain": [
       "2.23606797749979"
      ]
     },
     "execution_count": 2,
     "metadata": {},
     "output_type": "execute_result"
    }
   ],
   "source": [
    "import math\n",
    "math.sqrt(5)"
   ]
  },
  {
   "cell_type": "code",
   "execution_count": 3,
   "id": "2c94e323",
   "metadata": {},
   "outputs": [
    {
     "data": {
      "text/plain": [
       "str"
      ]
     },
     "execution_count": 3,
     "metadata": {},
     "output_type": "execute_result"
    }
   ],
   "source": [
    "#type\n",
    "type(\"merhaba\")"
   ]
  },
  {
   "cell_type": "code",
   "execution_count": 4,
   "id": "5d3b1228",
   "metadata": {},
   "outputs": [
    {
     "data": {
      "text/plain": [
       "list"
      ]
     },
     "execution_count": 4,
     "metadata": {},
     "output_type": "execute_result"
    }
   ],
   "source": [
    "listem=[1,2,3,4,5]\n",
    "type(listem)"
   ]
  },
  {
   "cell_type": "code",
   "execution_count": 5,
   "id": "88348437",
   "metadata": {},
   "outputs": [
    {
     "data": {
      "text/plain": [
       "(float, str)"
      ]
     },
     "execution_count": 5,
     "metadata": {},
     "output_type": "execute_result"
    }
   ],
   "source": [
    "type(3.14),type('3.14')"
   ]
  },
  {
   "cell_type": "code",
   "execution_count": 6,
   "id": "8733f03b",
   "metadata": {},
   "outputs": [
    {
     "name": "stdout",
     "output_type": "stream",
     "text": [
      "BTK\tBTK\tBTK\tBTK\tBTK\tBTK\tBTK\tBTK\tBTK\tBTK\tBTK\tBTK\tBTK\tBTK\tBTK\tBTK\tBTK\tBTK\tBTK\tBTK\tBTK\tBTK\tBTK\tBTK\tBTK\tBTK\tBTK\tBTK\tBTK\tBTK\tBTK\tBTK\tBTK\tBTK\tBTK\tBTK\tBTK\tBTK\tBTK\tBTK\tBTK\tBTK\tBTK\tBTK\tBTK\tBTK\tBTK\tBTK\tBTK\tBTK\tBTK\tBTK\tBTK\tBTK\tBTK\tBTK\tBTK\tBTK\tBTK\tBTK\tBTK\tBTK\tBTK\tBTK\tBTK\tBTK\tBTK\tBTK\tBTK\tBTK\tBTK\tBTK\tBTK\tBTK\tBTK\tBTK\tBTK\tBTK\tBTK\tBTK\tBTK\tBTK\tBTK\tBTK\tBTK\tBTK\tBTK\tBTK\tBTK\tBTK\tBTK\tBTK\tBTK\tBTK\tBTK\tBTK\tBTK\tBTK\tBTK\tBTK\tBTK\tBTK\tBTK\tBTK\tBTK\tBTK\tBTK\tBTK\tBTK\tBTK\tBTK\tBTK\tBTK\tBTK\tBTK\tBTK\tBTK\tBTK\tBTK\tBTK\tBTK\tBTK\tBTK\tBTK\t\n"
     ]
    }
   ],
   "source": [
    "print(124*'BTK\\t')"
   ]
  },
  {
   "cell_type": "code",
   "execution_count": 9,
   "id": "99727682",
   "metadata": {},
   "outputs": [
    {
     "data": {
      "text/plain": [
       "'\\nTürkiyenin başkenti Ankara dır.\\n'"
      ]
     },
     "execution_count": 9,
     "metadata": {},
     "output_type": "execute_result"
    }
   ],
   "source": [
    "'''\n",
    "Türkiyenin başkenti Ankara dır.\n",
    "'''"
   ]
  },
  {
   "cell_type": "code",
   "execution_count": 10,
   "id": "4c59731b",
   "metadata": {},
   "outputs": [
    {
     "data": {
      "text/plain": [
       "10"
      ]
     },
     "execution_count": 10,
     "metadata": {},
     "output_type": "execute_result"
    }
   ],
   "source": [
    "sayi=10\n",
    "sayi"
   ]
  },
  {
   "cell_type": "code",
   "execution_count": 11,
   "id": "31e5afb9",
   "metadata": {},
   "outputs": [
    {
     "data": {
      "text/plain": [
       "'BTK'"
      ]
     },
     "execution_count": 11,
     "metadata": {},
     "output_type": "execute_result"
    }
   ],
   "source": [
    "sayi='BTK'\n",
    "sayi"
   ]
  },
  {
   "cell_type": "code",
   "execution_count": 12,
   "id": "b4852cc2",
   "metadata": {},
   "outputs": [
    {
     "data": {
      "text/plain": [
       "complex"
      ]
     },
     "execution_count": 12,
     "metadata": {},
     "output_type": "execute_result"
    }
   ],
   "source": [
    "sayi=5+2j\n",
    "type(sayi)"
   ]
  },
  {
   "cell_type": "code",
   "execution_count": 15,
   "id": "dfb7206f",
   "metadata": {},
   "outputs": [
    {
     "data": {
      "text/plain": [
       "5"
      ]
     },
     "execution_count": 15,
     "metadata": {},
     "output_type": "execute_result"
    }
   ],
   "source": [
    "sayi=[1,2,3,4,5, [6,7,8]]\n",
    "sayi[4]"
   ]
  },
  {
   "cell_type": "code",
   "execution_count": 16,
   "id": "c1bb70a8",
   "metadata": {},
   "outputs": [
    {
     "data": {
      "text/plain": [
       "7"
      ]
     },
     "execution_count": 16,
     "metadata": {},
     "output_type": "execute_result"
    }
   ],
   "source": [
    "sayi[5][1]"
   ]
  },
  {
   "cell_type": "code",
   "execution_count": 17,
   "id": "1a4dd91a",
   "metadata": {},
   "outputs": [
    {
     "data": {
      "text/plain": [
       "6"
      ]
     },
     "execution_count": 17,
     "metadata": {},
     "output_type": "execute_result"
    }
   ],
   "source": [
    "len(sayi)"
   ]
  },
  {
   "cell_type": "code",
   "execution_count": 18,
   "id": "ad1cbe46",
   "metadata": {},
   "outputs": [],
   "source": [
    "demet=(1,2,3,4,5)"
   ]
  },
  {
   "cell_type": "code",
   "execution_count": 20,
   "id": "83d28dbd",
   "metadata": {},
   "outputs": [
    {
     "data": {
      "text/plain": [
       "5"
      ]
     },
     "execution_count": 20,
     "metadata": {},
     "output_type": "execute_result"
    }
   ],
   "source": [
    "len(demet)"
   ]
  },
  {
   "cell_type": "code",
   "execution_count": 21,
   "id": "25024f72",
   "metadata": {},
   "outputs": [
    {
     "data": {
      "text/plain": [
       "5"
      ]
     },
     "execution_count": 21,
     "metadata": {},
     "output_type": "execute_result"
    }
   ],
   "source": [
    "listem=[1,2,3,4,5]\n",
    "len(listem)"
   ]
  },
  {
   "cell_type": "code",
   "execution_count": 22,
   "id": "a3a2102a",
   "metadata": {},
   "outputs": [],
   "source": [
    "listem.append(6)"
   ]
  },
  {
   "cell_type": "code",
   "execution_count": 23,
   "id": "ff3af9af",
   "metadata": {},
   "outputs": [
    {
     "data": {
      "text/plain": [
       "[1, 2, 3, 4, 5, 6]"
      ]
     },
     "execution_count": 23,
     "metadata": {},
     "output_type": "execute_result"
    }
   ],
   "source": [
    "listem"
   ]
  },
  {
   "cell_type": "code",
   "execution_count": 24,
   "id": "7baae4bc",
   "metadata": {},
   "outputs": [
    {
     "data": {
      "text/plain": [
       "6"
      ]
     },
     "execution_count": 24,
     "metadata": {},
     "output_type": "execute_result"
    }
   ],
   "source": [
    "listem.pop()"
   ]
  },
  {
   "cell_type": "code",
   "execution_count": null,
   "id": "a22c653d",
   "metadata": {},
   "outputs": [],
   "source": [
    "listem.insert(0,0)"
   ]
  },
  {
   "cell_type": "code",
   "execution_count": 37,
   "id": "780dd9a5",
   "metadata": {},
   "outputs": [],
   "source": [
    "#Vize, final derse devam notlarını ve ağırlıkları kullanıcı girsin\n",
    "#>=90 AA\n",
    "# 85 BA\n",
    "#>=75 BB\n",
    "#>=70 CB\n",
    "#>=60 CC\n",
    "#>=50 DC\n",
    "#50 altı kalsın#\n",
    "def ortalama_hesaplama(vize, vize_yzd, final, final_yzd, derse_devam, derse_devam_yzd):\n",
    "    vize=int(input(\"vize:\"))\n",
    "    vize_yzd=float(input(\"Vize ağırlığını Girin %:\"))\n",
    "    final=int(input(\"final:\"))\n",
    "    final_yzd=float(input(\"Final ağırlığını girin %:\"))\n",
    "    derse_devam=int(input(\"derse devam notu:\"))\n",
    "    derse_devam_yzd=float(input(\"Derse devam yüzdesi %:\"))\n",
    "\n",
    "    notu = ((vize*vize_yzd)+(final*final_yzd)+(derse_devam*derse_devam_yzd))\n",
    "\n",
    "    print(\"Not:\", notu) \n",
    "    if notu>=90 :\n",
    "        print(\"AA\")\n",
    "    elif notu>=85 :\n",
    "        print(\"BA\")\n",
    "    elif notu>=75 :\n",
    "        print(\"BB\")\n",
    "    elif notu>=70 :\n",
    "        print(\"CB\")\n",
    "    elif notu>=60 :\n",
    "        print(\"CC\")\n",
    "    elif notu>=50 :\n",
    "        print(\"DC\")\n",
    "    else :\n",
    "        print(\"Kaldı\")"
   ]
  },
  {
   "cell_type": "code",
   "execution_count": 39,
   "id": "225d5fa3",
   "metadata": {},
   "outputs": [
    {
     "name": "stdout",
     "output_type": "stream",
     "text": [
      "vize:75\n",
      "Vize ağırlığını Girin %:.3\n",
      "final:50\n",
      "Final ağırlığını girin %:.5\n",
      "derse devam notu:80\n",
      "Derse devam yüzdesi %:.2\n",
      "Not: 63.5\n",
      "CC\n"
     ]
    }
   ],
   "source": [
    "ortalama_hesaplama(75, 0.75, 50, 0.5, 50, 0.5)"
   ]
  }
 ],
 "metadata": {
  "kernelspec": {
   "display_name": "Python 3 (ipykernel)",
   "language": "python",
   "name": "python3"
  },
  "language_info": {
   "codemirror_mode": {
    "name": "ipython",
    "version": 3
   },
   "file_extension": ".py",
   "mimetype": "text/x-python",
   "name": "python",
   "nbconvert_exporter": "python",
   "pygments_lexer": "ipython3",
   "version": "3.11.9"
  }
 },
 "nbformat": 4,
 "nbformat_minor": 5
}
